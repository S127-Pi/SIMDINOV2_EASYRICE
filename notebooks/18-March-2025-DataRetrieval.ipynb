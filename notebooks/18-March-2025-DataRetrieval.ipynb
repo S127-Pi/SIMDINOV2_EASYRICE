{
 "cells": [
  {
   "cell_type": "code",
   "execution_count": null,
   "metadata": {},
   "outputs": [],
   "source": [
    "import numpy as np\n",
    "import uuid\n",
    "from PIL import Image\n",
    "from tqdm import tqdm \n",
    "\n",
    "import os\n",
    "import sys\n",
    "sys.path.append(os.path.abspath(os.path.join(os.getcwd(), '../')))"
   ]
  },
  {
   "cell_type": "code",
   "execution_count": 2,
   "metadata": {},
   "outputs": [],
   "source": [
    "def find_npz_files(base_dirs):\n",
    "    npz_paths = []\n",
    "\n",
    "    for base_dir in base_dirs:\n",
    "        for root, dirs, files in os.walk(base_dir):  # Recursively walk through subdirectories\n",
    "            for file in files:\n",
    "                if file.endswith('.npz'):  # Check if the file ends with .npz\n",
    "                    npz_paths.append(os.path.join(root, file))  # Append the full path to the list\n",
    "\n",
    "    return npz_paths"
   ]
  },
  {
   "cell_type": "code",
   "execution_count": 3,
   "metadata": {},
   "outputs": [],
   "source": [
    "path_to_hovernet = \"/media/nas/MP/segmentation/hovernet/\"\n",
    "# List of base folders you want to search through\n",
    "base_folders = [\n",
    "    \"Mandi_Wise_Scanned_Images/\",\n",
    "    \"New Season Paddy  Dec2024/\",\n",
    "    \"PNG_Paddy04-2024/\",\n",
    "    \"PNG_Paddy07-2024/\"\n",
    "]"
   ]
  },
  {
   "cell_type": "code",
   "execution_count": 4,
   "metadata": {},
   "outputs": [],
   "source": [
    "npz_files = find_npz_files([path_to_hovernet + base_folder for base_folder in base_folders])"
   ]
  },
  {
   "cell_type": "code",
   "execution_count": 5,
   "metadata": {},
   "outputs": [
    {
     "data": {
      "text/plain": [
       "627"
      ]
     },
     "execution_count": 5,
     "metadata": {},
     "output_type": "execute_result"
    }
   ],
   "source": [
    "len(npz_files)"
   ]
  },
  {
   "cell_type": "code",
   "execution_count": 6,
   "metadata": {},
   "outputs": [
    {
     "data": {
      "text/plain": [
       "'PADDY_ BATALA_18.10.2024_20241018_0002'"
      ]
     },
     "execution_count": 6,
     "metadata": {},
     "output_type": "execute_result"
    }
   ],
   "source": [
    "npz_files[0].split(\"/\")[-1][:-4]"
   ]
  },
  {
   "cell_type": "code",
   "execution_count": 7,
   "metadata": {},
   "outputs": [
    {
     "name": "stderr",
     "output_type": "stream",
     "text": [
      "processing npz file: 100%|███████████████████████████████████████████████████████████| 627/627 [29:21<00:00,  2.81s/it]\n"
     ]
    }
   ],
   "source": [
    "path_india_all = \"images_india_all_uncleaned/\"\n",
    "os.makedirs(path_india_all, exist_ok=True)\n",
    "generated_uuids = set()\n",
    "\n",
    "# # Load the images from the npz files\n",
    "# for npz in tqdm(npz_files, desc=\"processing npz file\"):\n",
    "#     images = np.load(npz)['kernel_pics'].astype('uint8')\n",
    "#     npz_prefix = npz.split(\"/\")[-1][:-4]\n",
    "\n",
    "#     for i, image in enumerate(images):\n",
    "#         image_pil = Image.fromarray(image.astype('uint8')) # Convert the numpy array to an image\n",
    "        \n",
    "#         unique_id = uuid.uuid4().hex\n",
    "#         while unique_id in generated_uuids:\n",
    "#             unique_id = uuid.uuid4().hex\n",
    "#         generated_uuids.add(unique_id)\n",
    "\n",
    "#         image_pil.save(path_india_all + npz_prefix + \"_\" + str(uuid.uuid4()) + \".png\") # Save the image to the folder\n",
    "    "
   ]
  },
  {
   "cell_type": "code",
   "execution_count": 8,
   "metadata": {},
   "outputs": [
    {
     "name": "stdout",
     "output_type": "stream",
     "text": [
      "Total images found: 403838\n"
     ]
    }
   ],
   "source": [
    "def count_images(directory):\n",
    "    image_extensions = {\".jpg\", \".jpeg\", \".png\", \".bmp\", \".gif\", \".tiff\", \".webp\"}  # Add more if needed\n",
    "    return sum(1 for file in os.listdir(directory) if file.lower().endswith(tuple(image_extensions)))\n",
    "\n",
    "directory_path = \"images_india_all_uncleaned/\"  # Change this if needed\n",
    "total_images = count_images(directory_path)\n",
    "\n",
    "print(f\"Total images found: {total_images}\")"
   ]
  },
  {
   "cell_type": "code",
   "execution_count": null,
   "metadata": {},
   "outputs": [],
   "source": []
  }
 ],
 "metadata": {
  "kernelspec": {
   "display_name": "torch",
   "language": "python",
   "name": "python3"
  },
  "language_info": {
   "codemirror_mode": {
    "name": "ipython",
    "version": 3
   },
   "file_extension": ".py",
   "mimetype": "text/x-python",
   "name": "python",
   "nbconvert_exporter": "python",
   "pygments_lexer": "ipython3",
   "version": "3.11.11"
  }
 },
 "nbformat": 4,
 "nbformat_minor": 4
}
