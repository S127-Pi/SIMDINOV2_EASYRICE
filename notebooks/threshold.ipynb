{
 "cells": [
  {
   "cell_type": "code",
   "execution_count": 1,
   "metadata": {},
   "outputs": [],
   "source": [
    "import torch\n",
    "import matplotlib.pyplot as plt\n",
    "import numpy as np\n",
    "import torchvision.transforms as transforms\n",
    "from PIL import Image\n",
    "import os\n",
    "import random\n",
    "from torchvision.utils import save_image"
   ]
  },
  {
   "cell_type": "code",
   "execution_count": null,
   "metadata": {},
   "outputs": [],
   "source": [
    "# Function to check if a patch is black\n",
    "def is_patch_black(patch, threshold):\n",
    "    \"\"\"\n",
    "    Check if a patch is considered black based on a given threshold.\n",
    "    \"\"\"\n",
    "    threshold = 0.6\n",
    "    imagenet_mean = torch.tensor([0.485, 0.456, 0.406]).view(3, 1, 1)\n",
    "    imagenet_std = torch.tensor([0.229, 0.224, 0.225]).view(3, 1, 1)\n",
    "    \n",
    "    # Denormalize patch\n",
    "    denormalized_patch = patch * imagenet_std + imagenet_mean\n",
    "    \n",
    "    # Compute deviation from black (0,0,0)\n",
    "    deviation = torch.abs(denormalized_patch - 0.0)\n",
    "    \n",
    "    # Max deviation across channels\n",
    "    max_deviation = deviation.max()\n",
    "    \n",
    "    return max_deviation, max_deviation < threshold # for zero \n",
    "\n",
    "# Directory containing training images\n",
    "training_data_dir = \"images/train/\"  # <-- Change this to your dataset directory\n",
    "\n",
    "# Recursively get all image files in subdirectories\n",
    "image_files = []\n",
    "for root, _, files in os.walk(training_data_dir):\n",
    "    for file in files:\n",
    "        if file.endswith((\".png\", \".jpg\", \".jpeg\")):\n",
    "            image_files.append(os.path.join(root, file))\n",
    "\n",
    "# Randomly sample n images\n",
    "num_samples = 1\n",
    "sampled_images = random.sample(image_files, min(num_samples, len(image_files)))\n",
    "\n",
    "# Transformation pipeline\n",
    "transform = transforms.Compose([\n",
    "    transforms.Resize((224, 224)),  # Resize to 224x224\n",
    "    transforms.ToTensor(),  # Convert image to tensor (C, H, W)\n",
    "    transforms.Normalize(mean=[0.485, 0.456, 0.406], std=[0.229, 0.224, 0.225])  # Apply ImageNet normalization\n",
    "])\n",
    "\n",
    "# Define patch size\n",
    "patch_size = 14  # Change as needed\n",
    "\n",
    "black_deviation_values = []\n",
    "non_black_deviation_values = []\n",
    "is_black_values = []\n",
    "\n",
    "# Directory to save patches\n",
    "patch_save_dir = \"image_patches/\"\n",
    "\n",
    "# Define sub-directories for saving patches\n",
    "black_patch_dir = os.path.join(patch_save_dir, \"black\")\n",
    "non_black_patch_dir = os.path.join(patch_save_dir, \"non_black\")\n",
    "\n",
    "# Create directories\n",
    "os.makedirs(black_patch_dir, exist_ok=True)\n",
    "os.makedirs(non_black_patch_dir, exist_ok=True)\n",
    "\n",
    "# Process each sampled image\n",
    "for image_path in sampled_images:\n",
    "    image = Image.open(image_path).convert(\"RGB\")\n",
    "    image_tensor = transform(image)  # (C, H, W)\n",
    "\n",
    "    # Compute number of patches\n",
    "    C, H, W = image_tensor.shape\n",
    "    H_patches = H // patch_size\n",
    "    W_patches = W // patch_size\n",
    "\n",
    "    # Iterate over patches\n",
    "    for i in range(H_patches):\n",
    "        for j in range(W_patches):\n",
    "            r_start, c_start = i * patch_size, j * patch_size\n",
    "            patch = image_tensor[:, r_start:r_start + patch_size, c_start:c_start + patch_size]\n",
    "            \n",
    "            deviation, is_black = is_patch_black(patch, threshold=1e-2)  # Initial threshold guess\n",
    "            if is_black:\n",
    "                # Save black patch image\n",
    "                patch_filename = f\"{image_path.split('/')[-1].split('.')[0]}_patch_{i}_{j}.png\"\n",
    "                patch_path = os.path.join(black_patch_dir ,patch_filename)\n",
    "                save_image(patch, patch_path)   # Save the patch\n",
    "                is_black_values.append(is_black)\n",
    "                black_deviation_values.append(deviation.item())\n",
    "\n",
    "            else:\n",
    "                # Save non-black patch image\n",
    "                patch_filename = f\"{image_path.split('/')[-1].split('.')[0]}_patch_{i}_{j}.png\"\n",
    "                patch_path = os.path.join(non_black_patch_dir ,patch_filename)\n",
    "                non_black_deviation_values.append(deviation.item())\n",
    "                save_image(patch, patch_path)   # Save the patch\n",
    "            \n",
    "                \n",
    "                \n"
   ]
  },
  {
   "cell_type": "code",
   "execution_count": 80,
   "metadata": {},
   "outputs": [
    {
     "name": "stderr",
     "output_type": "stream",
     "text": [
      "/tmp/ipykernel_84199/1971369814.py:10: UserWarning: No artists with labels found to put in legend.  Note that artists whose label start with an underscore are ignored when legend() is called with no argument.\n",
      "  plt.legend()\n"
     ]
    },
    {
     "data": {
      "image/png": "[encoded data removed]",
      "text/plain": [
       "<Figure size 800x500 with 1 Axes>"
      ]
     },
     "metadata": {},
     "output_type": "display_data"
    },
    {
     "name": "stdout",
     "output_type": "stream",
     "text": [
      "Suggested threshold: 0.00000\n"
     ]
    }
   ],
   "source": [
    "# Plot histogram of deviations across all 20 images\n",
    "plt.figure(figsize=(8, 5))\n",
    "plt.hist(black_deviation_values, bins=5, color=\"blue\", alpha=0.7)\n",
    "plt.hist(non_black_deviation_values, bins=5, color=\"red\", alpha=0.7)\n",
    "# plt.axvline(2.9802322387695312e-08, color=\"red\", linestyle=\"dashed\", label=f\"Threshold = 0.01\")\n",
    "\n",
    "plt.ylabel(\"Number of Patches\")\n",
    "plt.xlabel(\"Deviation from Black\")\n",
    "plt.title(\"Histogram of Patch Deviation from Black Across 100 Images\")\n",
    "plt.legend()\n",
    "plt.show()\n",
    "\n",
    "# Suggest threshold\n",
    "suggested_threshold = np.percentile(black_deviation_values, 95)  # Pick a low percentile\n",
    "print(f\"Suggested threshold: {suggested_threshold:.5f}\")\n",
    "\n"
   ]
  },
  {
   "cell_type": "code",
   "execution_count": 74,
   "metadata": {},
   "outputs": [
    {
     "data": {
      "text/plain": [
       "np.float64(2.9802322387695312e-08)"
      ]
     },
     "execution_count": 74,
     "metadata": {},
     "output_type": "execute_result"
    }
   ],
   "source": [
    "np.percentile(black_deviation_values, 75)"
   ]
  },
  {
   "cell_type": "code",
   "execution_count": 49,
   "metadata": {},
   "outputs": [],
   "source": [
    "unique_values = list(set(non_black_deviation_values)) # Get unique values\n"
   ]
  },
  {
   "cell_type": "code",
   "execution_count": 50,
   "metadata": {},
   "outputs": [],
   "source": [
    "unique_values.sort() # Sort the unique values"
   ]
  },
  {
   "cell_type": "code",
   "execution_count": 51,
   "metadata": {},
   "outputs": [
    {
     "data": {
      "text/plain": [
       "[0.03529411554336548, 0.04313725233078003, 0.05098038911819458]"
      ]
     },
     "execution_count": 51,
     "metadata": {},
     "output_type": "execute_result"
    }
   ],
   "source": [
    "unique_values[:3]"
   ]
  }
 ],
 "metadata": {
  "kernelspec": {
   "display_name": "torch",
   "language": "python",
   "name": "python3"
  },
  "language_info": {
   "codemirror_mode": {
    "name": "ipython",
    "version": 3
   },
   "file_extension": ".py",
   "mimetype": "text/x-python",
   "name": "python",
   "nbconvert_exporter": "python",
   "pygments_lexer": "ipython3",
   "version": "3.11.11"
  }
 },
 "nbformat": 4,
 "nbformat_minor": 2
}
