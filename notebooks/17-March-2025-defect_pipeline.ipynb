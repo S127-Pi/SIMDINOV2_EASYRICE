{
 "cells": [
  {
   "cell_type": "code",
   "execution_count": 7,
   "metadata": {},
   "outputs": [],
   "source": [
    "import tensorflow as tf\n",
    "import math\n",
    "from tqdm import tqdm\n",
    "import numpy as np\n",
    "import os\n",
    "import time\n",
    "import cv2\n",
    "import pickle\n",
    "import matplotlib.pyplot as plt\n",
    "from PIL import Image\n",
    "import scipy as scipy\n",
    "from collections import Counter\n",
    "from Erosion import crop_rice_grains\n",
    "import uuid\n",
    "import gc\n",
    "\n",
    "\n",
    "from tensorflow.keras.models import Model,load_model\n",
    "from tensorflow.keras.applications import EfficientNetB0\n",
    "from tensorflow.keras.layers import Input,Dense, Conv2D,GlobalAveragePooling2D,Dropout,Flatten,BatchNormalization,Concatenate,InputLayer,AveragePooling2D\n",
    "from tensorflow.keras import backend as K\n",
    "from tensorflow.keras.optimizers import AdamW\n",
    "\n",
    "\n",
    "%matplotlib inline"
   ]
  },
  {
   "cell_type": "markdown",
   "metadata": {},
   "source": [
    "# Initialize Defect Model"
   ]
  },
  {
   "cell_type": "code",
   "execution_count": 8,
   "metadata": {},
   "outputs": [],
   "source": [
    "base_model = EfficientNetB0(\n",
    "    include_top=False,\n",
    "    weights=\"imagenet\",\n",
    "    input_shape=(224,224,3)\n",
    ")\n",
    "\n",
    "config = base_model.get_config()\n",
    "new_model = tf.keras.models.Model.from_config(config) # <- new_model architecture\n",
    "\n",
    "x_model = new_model.output\n",
    "# x_model = data_augmentation(x_model)  \n",
    "x_model = GlobalAveragePooling2D()(x_model)\n",
    "x_model = BatchNormalization()(x_model)\n",
    "x_model = Dropout(0.3)(x_model)\n",
    "x_model = Dense(128,activation='relu')(x_model)\n",
    "x_model = BatchNormalization()(x_model)\n",
    "x_model = Dense(128,activation='relu')(x_model)\n",
    "x_model = Dropout(0.3)(x_model)\n",
    "x_model = Dense(64,activation='relu')(x_model)\n",
    "x_model = Dropout(0.3)(x_model)\n",
    "\n",
    "predictions = Dense(5, activation='softmax')(x_model)\n",
    "model = Model(inputs=new_model.input, outputs=predictions)\n",
    "\n",
    "model.load_weights('/media/new_volumn/MP_DEFECT/models/defect/modelsB0V4.keras')\n"
   ]
  },
  {
   "cell_type": "markdown",
   "metadata": {},
   "source": [
    "# Load dataset"
   ]
  },
  {
   "cell_type": "code",
   "execution_count": 9,
   "metadata": {},
   "outputs": [],
   "source": [
    "path_1509 = \"/media/nas/MP/segmentation/hovernet/PNG_Paddy07-2024/PUSA_PADDY-1509_HARYANA_3-7-24/\"\n",
    "path_1121 = \"/media/nas/MP/segmentation/hovernet/PNG_Paddy07-2024/PUSA_PADDY_1121_HARYANA_8-7-2024/\""
   ]
  },
  {
   "cell_type": "code",
   "execution_count": 10,
   "metadata": {},
   "outputs": [
    {
     "name": "stdout",
     "output_type": "stream",
     "text": [
      "/media/nas/MP/segmentation/hovernet/PNG_Paddy07-2024/PUSA_PADDY-1509_HARYANA_3-7-24/PUSA_PADDY 1509_HARYANA_ 03.07.2024_20240703_0022.npz\n",
      "/media/nas/MP/segmentation/hovernet/PNG_Paddy07-2024/PUSA_PADDY_1121_HARYANA_8-7-2024/PUSA_PADDY 1121_HARYANA_ 08.07.2024_20240709_0003.npz\n"
     ]
    }
   ],
   "source": [
    "path_1509_npz = [f'{path_1509}{npz}'for npz in os.listdir(path_1509)]\n",
    "path_1121_npz = [f'{path_1121}{npz}'for npz in os.listdir(path_1121)]\n",
    "print(path_1509_npz[0])\n",
    "print(path_1121_npz[0])\n",
    "\n",
    "all_breed_npz = path_1509_npz + path_1121_npz # our interested breed"
   ]
  },
  {
   "cell_type": "code",
   "execution_count": 11,
   "metadata": {},
   "outputs": [],
   "source": [
    "def transform(images):\n",
    "    X_test_resized = tf.image.resize(images['kernel_pics'], (224, 224))\n",
    "\n",
    "    # # Normalize images to the range [0, 1]\n",
    "    X_test_normalized = X_test_resized / 255.0\n",
    "\n",
    "    return np.array(X_test_normalized)"
   ]
  },
  {
   "cell_type": "code",
   "execution_count": 12,
   "metadata": {},
   "outputs": [],
   "source": [
    "# A set to keep track of generated UUIDs for uniqueness check\n",
    "generated_uuids = set()\n",
    "\n",
    "def evaluate(X_test, npz_prefix, breed_type, npz_filename):\n",
    "\n",
    "    list_normal_rice = []\n",
    "\n",
    "    data_dict = [\n",
    "                    'broke',\n",
    "                    'dual',\n",
    "                    'half',\n",
    "                    'normal',\n",
    "                    'over'\n",
    "                ]\n",
    "    # Perform batch prediction\n",
    "    Y_pred = model.predict(X_test, verbose=0) \n",
    "    y_pred = np.argmax(Y_pred, axis=1)  # Get class indices for the whole batch\n",
    "\n",
    "    # Set base evaluation directory\n",
    "    base_dir = \"/media/new_volumn/SimDINO/IndianDefects\"\n",
    "    os.makedirs(base_dir, exist_ok=True)\n",
    "\n",
    "    # Training data directory\n",
    "    training_dir = \"/media/new_volumn/SimDINO/images_india\"\n",
    "    os.makedirs(training_dir, exist_ok=True)\n",
    "    training_breed_type = os.path.join(training_dir, breed_type)\n",
    "    os.makedirs(training_breed_type, exist_ok=True)\n",
    "\n",
    "    # NPZ directory\n",
    "    npz_dir = \"/media/new_volumn/SimDINO/npz_india\"\n",
    "    os.makedirs(npz_dir, exist_ok=True)\n",
    "\n",
    "    for i, (image, pred_class) in enumerate(zip(X_test, y_pred)):\n",
    "        class_label = data_dict[pred_class]  # Get class name from index\n",
    "        # breed_dir = os.path.join(base_dir, breed_type)\n",
    "        # Create breed directory if it doesn't exist\n",
    "        # os.makedirs(breed_dir, exist_ok=True)\n",
    "        # Create class directory if it doesn't exist\n",
    "        # class_dir = os.path.join(breed_dir, class_label)\n",
    "        # os.makedirs(class_dir, exist_ok=True)\n",
    "\n",
    "        # unique_id = uuid.uuid4().hex\n",
    "        # while unique_id in generated_uuids:\n",
    "        #     unique_id = uuid.uuid4().hex\n",
    "        # generated_uuids.add(unique_id)\n",
    "\n",
    "        # Define save path for defect\n",
    "        # save_path_defect = os.path.join(class_dir, f\"{npz_prefix}_{unique_id}.png\")\n",
    "\n",
    "        # Convert image to NumPy and save\n",
    "        # image_np = image.numpy() \n",
    "        image_pil = Image.fromarray((image * 255).astype(np.uint8)) \n",
    "        # image_pil.save(save_path_defect)\n",
    "        \n",
    "\n",
    "        if class_label == \"normal\":\n",
    "            # save_path_training = os.path.join(training_breed_type, f\"{npz_prefix}_{unique_id}.png\")\n",
    "            # image_pil.save(save_path_training)\n",
    "            list_normal_rice.append(image_pil)\n",
    "\n",
    "    list_normal_rice = np.array(list_normal_rice)\n",
    "    np.savez_compressed(f\"{npz_dir}/{npz_filename}\", kernel_pics=list_normal_rice)\n",
    "\n",
    "\n"
   ]
  },
  {
   "cell_type": "code",
   "execution_count": null,
   "metadata": {},
   "outputs": [
    {
     "name": "stderr",
     "output_type": "stream",
     "text": [
      "looping through npz:   0%|          | 0/53 [00:00<?, ?it/s]WARNING: All log messages before absl::InitializeLog() is called are written to STDERR\n",
      "I0000 00:00:1742269811.246566  451198 service.cc:148] XLA service 0x7fbff814bbc0 initialized for platform CUDA (this does not guarantee that XLA will be used). Devices:\n",
      "I0000 00:00:1742269811.246625  451198 service.cc:156]   StreamExecutor device (0): NVIDIA GeForce RTX 4090, Compute Capability 8.9\n",
      "2025-03-18 10:50:11.331649: I tensorflow/compiler/mlir/tensorflow/utils/dump_mlir_util.cc:268] disabling MLIR crash reproducer, set env var `MLIR_CRASH_REPRODUCER_DIRECTORY` to enable.\n",
      "I0000 00:00:1742269811.670817  451198 cuda_dnn.cc:529] Loaded cuDNN version 90300\n",
      "2025-03-18 10:50:11.795853: W external/local_xla/xla/service/gpu/nvptx_compiler.cc:930] The NVIDIA driver's CUDA version is 12.2 which is older than the PTX compiler version 12.5.82. Because the driver is older than the PTX compiler version, XLA is disabling parallel compilation, which may slow down compilation. You should update your NVIDIA driver or use the NVIDIA-provided CUDA forward compatibility packages.\n",
      "I0000 00:00:1742269815.403711  451198 device_compiler.h:188] Compiled cluster using XLA!  This line is logged at most once for the lifetime of the process.\n",
      "looping through npz:   4%|▍         | 2/53 [00:20<08:18,  9.77s/it]"
     ]
    },
    {
     "name": "stdout",
     "output_type": "stream",
     "text": [
      "Skipping image 338: No rice grain found.\n",
      "Skipping image 600: No rice grain found.\n"
     ]
    },
    {
     "name": "stderr",
     "output_type": "stream",
     "text": [
      "looping through npz:   6%|▌         | 3/53 [00:27<07:08,  8.57s/it]"
     ]
    },
    {
     "name": "stdout",
     "output_type": "stream",
     "text": [
      "Skipping image 5: No rice grain found.\n",
      "Skipping image 22: No rice grain found.\n"
     ]
    },
    {
     "name": "stderr",
     "output_type": "stream",
     "text": [
      "looping through npz:   8%|▊         | 4/53 [00:35<06:32,  8.00s/it]"
     ]
    },
    {
     "name": "stdout",
     "output_type": "stream",
     "text": [
      "Skipping image 210: No rice grain found.\n",
      "Skipping image 384: No rice grain found.\n"
     ]
    },
    {
     "name": "stderr",
     "output_type": "stream",
     "text": [
      "looping through npz:  11%|█▏        | 6/53 [00:48<05:36,  7.15s/it]"
     ]
    },
    {
     "name": "stdout",
     "output_type": "stream",
     "text": [
      "Skipping image 597: No rice grain found.\n"
     ]
    },
    {
     "name": "stderr",
     "output_type": "stream",
     "text": [
      "looping through npz:  15%|█▌        | 8/53 [00:58<04:26,  5.92s/it]"
     ]
    },
    {
     "name": "stdout",
     "output_type": "stream",
     "text": [
      "Skipping image 43: No rice grain found.\n",
      "Skipping image 86: No rice grain found.\n",
      "Skipping image 103: No rice grain found.\n",
      "Skipping image 192: No rice grain found.\n"
     ]
    },
    {
     "name": "stderr",
     "output_type": "stream",
     "text": [
      "looping through npz:  17%|█▋        | 9/53 [01:05<04:34,  6.25s/it]"
     ]
    },
    {
     "name": "stdout",
     "output_type": "stream",
     "text": [
      "Skipping image 8: No rice grain found.\n",
      "Skipping image 630: No rice grain found.\n"
     ]
    },
    {
     "name": "stderr",
     "output_type": "stream",
     "text": [
      "looping through npz:  19%|█▉        | 10/53 [01:09<03:54,  5.46s/it]"
     ]
    },
    {
     "name": "stdout",
     "output_type": "stream",
     "text": [
      "Skipping image 34: No rice grain found.\n",
      "Skipping image 176: No rice grain found.\n"
     ]
    },
    {
     "name": "stderr",
     "output_type": "stream",
     "text": [
      "looping through npz:  21%|██        | 11/53 [01:16<04:09,  5.94s/it]"
     ]
    },
    {
     "name": "stdout",
     "output_type": "stream",
     "text": [
      "Skipping image 12: No rice grain found.\n",
      "Skipping image 262: No rice grain found.\n",
      "Skipping image 311: No rice grain found.\n",
      "Skipping image 542: No rice grain found.\n"
     ]
    },
    {
     "name": "stderr",
     "output_type": "stream",
     "text": [
      "looping through npz:  25%|██▍       | 13/53 [01:30<04:17,  6.45s/it]"
     ]
    },
    {
     "name": "stdout",
     "output_type": "stream",
     "text": [
      "Skipping image 39: No rice grain found.\n",
      "Skipping image 276: No rice grain found.\n",
      "Skipping image 584: No rice grain found.\n"
     ]
    },
    {
     "name": "stderr",
     "output_type": "stream",
     "text": [
      "looping through npz:  28%|██▊       | 15/53 [01:43<04:11,  6.61s/it]"
     ]
    },
    {
     "name": "stdout",
     "output_type": "stream",
     "text": [
      "Skipping image 0: No rice grain found.\n",
      "Skipping image 4: No rice grain found.\n",
      "Skipping image 8: No rice grain found.\n",
      "Skipping image 240: No rice grain found.\n",
      "Skipping image 511: No rice grain found.\n"
     ]
    },
    {
     "name": "stderr",
     "output_type": "stream",
     "text": [
      "looping through npz:  30%|███       | 16/53 [01:47<03:31,  5.71s/it]"
     ]
    },
    {
     "name": "stdout",
     "output_type": "stream",
     "text": [
      "Skipping image 2: No rice grain found.\n",
      "Skipping image 586: No rice grain found.\n"
     ]
    },
    {
     "name": "stderr",
     "output_type": "stream",
     "text": [
      "looping through npz:  32%|███▏      | 17/53 [01:50<03:02,  5.08s/it]"
     ]
    },
    {
     "name": "stdout",
     "output_type": "stream",
     "text": [
      "Skipping image 246: No rice grain found.\n"
     ]
    },
    {
     "name": "stderr",
     "output_type": "stream",
     "text": [
      "looping through npz:  34%|███▍      | 18/53 [01:54<02:42,  4.63s/it]"
     ]
    },
    {
     "name": "stdout",
     "output_type": "stream",
     "text": [
      "Skipping image 13: No rice grain found.\n"
     ]
    },
    {
     "name": "stderr",
     "output_type": "stream",
     "text": [
      "looping through npz:  36%|███▌      | 19/53 [01:57<02:25,  4.27s/it]"
     ]
    },
    {
     "name": "stdout",
     "output_type": "stream",
     "text": [
      "Skipping image 306: No rice grain found.\n"
     ]
    },
    {
     "name": "stderr",
     "output_type": "stream",
     "text": [
      "looping through npz:  40%|███▉      | 21/53 [02:11<03:00,  5.63s/it]"
     ]
    },
    {
     "name": "stdout",
     "output_type": "stream",
     "text": [
      "Skipping image 43: No rice grain found.\n",
      "Skipping image 75: No rice grain found.\n",
      "Skipping image 132: No rice grain found.\n",
      "Skipping image 166: No rice grain found.\n"
     ]
    },
    {
     "name": "stderr",
     "output_type": "stream",
     "text": [
      "looping through npz:  42%|████▏     | 22/53 [02:18<03:06,  6.02s/it]"
     ]
    },
    {
     "name": "stdout",
     "output_type": "stream",
     "text": [
      "Skipping image 16: No rice grain found.\n",
      "Skipping image 441: No rice grain found.\n"
     ]
    },
    {
     "name": "stderr",
     "output_type": "stream",
     "text": [
      "looping through npz:  45%|████▌     | 24/53 [02:25<02:17,  4.72s/it]"
     ]
    },
    {
     "name": "stdout",
     "output_type": "stream",
     "text": [
      "Skipping image 327: No rice grain found.\n",
      "Skipping image 449: No rice grain found.\n"
     ]
    },
    {
     "name": "stderr",
     "output_type": "stream",
     "text": [
      "looping through npz:  47%|████▋     | 25/53 [02:32<02:29,  5.33s/it]"
     ]
    },
    {
     "name": "stdout",
     "output_type": "stream",
     "text": [
      "Skipping image 308: No rice grain found.\n",
      "Skipping image 412: No rice grain found.\n"
     ]
    },
    {
     "name": "stderr",
     "output_type": "stream",
     "text": [
      "looping through npz:  49%|████▉     | 26/53 [02:39<02:37,  5.82s/it]"
     ]
    },
    {
     "name": "stdout",
     "output_type": "stream",
     "text": [
      "Skipping image 0: No rice grain found.\n"
     ]
    },
    {
     "name": "stderr",
     "output_type": "stream",
     "text": [
      "looping through npz:  53%|█████▎    | 28/53 [02:46<01:57,  4.70s/it]"
     ]
    },
    {
     "name": "stdout",
     "output_type": "stream",
     "text": [
      "Skipping image 100: No rice grain found.\n",
      "Skipping image 337: No rice grain found.\n"
     ]
    },
    {
     "name": "stderr",
     "output_type": "stream",
     "text": [
      "looping through npz:  55%|█████▍    | 29/53 [02:53<02:09,  5.39s/it]"
     ]
    },
    {
     "name": "stdout",
     "output_type": "stream",
     "text": [
      "Skipping image 0: No rice grain found.\n",
      "Skipping image 2: No rice grain found.\n",
      "Skipping image 3: No rice grain found.\n",
      "Skipping image 11: No rice grain found.\n"
     ]
    },
    {
     "name": "stderr",
     "output_type": "stream",
     "text": [
      "looping through npz:  57%|█████▋    | 30/53 [02:57<01:52,  4.90s/it]"
     ]
    },
    {
     "name": "stdout",
     "output_type": "stream",
     "text": [
      "Skipping image 5: No rice grain found.\n",
      "Skipping image 7: No rice grain found.\n",
      "Skipping image 23: No rice grain found.\n"
     ]
    },
    {
     "name": "stderr",
     "output_type": "stream",
     "text": [
      "looping through npz:  60%|██████    | 32/53 [03:07<01:44,  4.97s/it]"
     ]
    },
    {
     "name": "stdout",
     "output_type": "stream",
     "text": [
      "Skipping image 201: No rice grain found.\n"
     ]
    },
    {
     "name": "stderr",
     "output_type": "stream",
     "text": [
      "looping through npz:  66%|██████▌   | 35/53 [03:22<01:28,  4.90s/it]"
     ]
    },
    {
     "name": "stdout",
     "output_type": "stream",
     "text": [
      "Skipping image 265: No rice grain found.\n"
     ]
    },
    {
     "name": "stderr",
     "output_type": "stream",
     "text": [
      "looping through npz:  68%|██████▊   | 36/53 [03:26<01:17,  4.53s/it]"
     ]
    },
    {
     "name": "stdout",
     "output_type": "stream",
     "text": [
      "Skipping image 16: No rice grain found.\n",
      "Skipping image 35: No rice grain found.\n",
      "Skipping image 221: No rice grain found.\n",
      "Skipping image 575: No rice grain found.\n"
     ]
    },
    {
     "name": "stderr",
     "output_type": "stream",
     "text": [
      "looping through npz:  70%|██████▉   | 37/53 [03:29<01:08,  4.26s/it]"
     ]
    },
    {
     "name": "stdout",
     "output_type": "stream",
     "text": [
      "Skipping image 8: No rice grain found.\n",
      "Skipping image 231: No rice grain found.\n",
      "Skipping image 260: No rice grain found.\n"
     ]
    },
    {
     "name": "stderr",
     "output_type": "stream",
     "text": [
      "looping through npz:  72%|███████▏  | 38/53 [03:33<01:01,  4.12s/it]"
     ]
    },
    {
     "name": "stdout",
     "output_type": "stream",
     "text": [
      "Skipping image 0: No rice grain found.\n",
      "Skipping image 2: No rice grain found.\n",
      "Skipping image 4: No rice grain found.\n",
      "Skipping image 46: No rice grain found.\n"
     ]
    },
    {
     "name": "stderr",
     "output_type": "stream",
     "text": [
      "looping through npz:  79%|███████▉  | 42/53 [03:52<00:54,  4.94s/it]"
     ]
    },
    {
     "name": "stdout",
     "output_type": "stream",
     "text": [
      "Skipping image 9: No rice grain found.\n",
      "Skipping image 10: No rice grain found.\n",
      "Skipping image 49: No rice grain found.\n",
      "Skipping image 226: No rice grain found.\n"
     ]
    },
    {
     "name": "stderr",
     "output_type": "stream",
     "text": [
      "looping through npz:  83%|████████▎ | 44/53 [03:59<00:39,  4.37s/it]"
     ]
    },
    {
     "name": "stdout",
     "output_type": "stream",
     "text": [
      "Skipping image 6: No rice grain found.\n"
     ]
    },
    {
     "name": "stderr",
     "output_type": "stream",
     "text": [
      "looping through npz:  85%|████████▍ | 45/53 [04:03<00:33,  4.24s/it]"
     ]
    },
    {
     "name": "stdout",
     "output_type": "stream",
     "text": [
      "Skipping image 6: No rice grain found.\n"
     ]
    },
    {
     "name": "stderr",
     "output_type": "stream",
     "text": [
      "looping through npz:  87%|████████▋ | 46/53 [04:10<00:36,  5.16s/it]"
     ]
    },
    {
     "name": "stdout",
     "output_type": "stream",
     "text": [
      "Skipping image 34: No rice grain found.\n",
      "Skipping image 177: No rice grain found.\n",
      "Skipping image 585: No rice grain found.\n"
     ]
    },
    {
     "name": "stderr",
     "output_type": "stream",
     "text": [
      "looping through npz:  89%|████████▊ | 47/53 [04:14<00:28,  4.69s/it]"
     ]
    },
    {
     "name": "stdout",
     "output_type": "stream",
     "text": [
      "Skipping image 9: No rice grain found.\n",
      "Skipping image 58: No rice grain found.\n"
     ]
    },
    {
     "name": "stderr",
     "output_type": "stream",
     "text": [
      "looping through npz:  94%|█████████▍| 50/53 [04:28<00:15,  5.03s/it]"
     ]
    },
    {
     "name": "stdout",
     "output_type": "stream",
     "text": [
      "Skipping image 41: No rice grain found.\n"
     ]
    },
    {
     "name": "stderr",
     "output_type": "stream",
     "text": [
      "looping through npz:  96%|█████████▌| 51/53 [04:32<00:09,  4.56s/it]"
     ]
    },
    {
     "name": "stdout",
     "output_type": "stream",
     "text": [
      "Skipping image 44: No rice grain found.\n",
      "Skipping image 251: No rice grain found.\n",
      "Skipping image 376: No rice grain found.\n",
      "Skipping image 616: No rice grain found.\n"
     ]
    },
    {
     "name": "stderr",
     "output_type": "stream",
     "text": [
      "looping through npz:  98%|█████████▊| 52/53 [04:39<00:05,  5.31s/it]"
     ]
    },
    {
     "name": "stdout",
     "output_type": "stream",
     "text": [
      "Skipping image 4: No rice grain found.\n",
      "Skipping image 63: No rice grain found.\n"
     ]
    },
    {
     "name": "stderr",
     "output_type": "stream",
     "text": [
      "looping through npz: 100%|██████████| 53/53 [04:43<00:00,  5.35s/it]\n"
     ]
    },
    {
     "data": {
      "text/plain": [
       "41947"
      ]
     },
     "execution_count": 13,
     "metadata": {},
     "output_type": "execute_result"
    },
    {
     "ename": "",
     "evalue": "",
     "output_type": "error",
     "traceback": [
      "\u001b[1;31mThe Kernel crashed while executing code in the current cell or a previous cell. \n",
      "\u001b[1;31mPlease review the code in the cell(s) to identify a possible cause of the failure. \n",
      "\u001b[1;31mClick <a href='https://aka.ms/vscodeJupyterKernelCrash'>here</a> for more info. \n",
      "\u001b[1;31mView Jupyter <a href='command:jupyter.viewOutput'>log</a> for further details."
     ]
    }
   ],
   "source": [
    "for count, npz in enumerate(tqdm(all_breed_npz, desc=\"looping through npz\")):\n",
    "    sample_images = np.load(npz)['kernel_pics'].astype('uint8')\n",
    "    npz_prefix = npz.split('/')[-1].split('.')[0] # obtain the prefix before .npz\n",
    "    breed_type = npz.split('/')[-1].split(\" \")[-2].split(\"_\")[0] # obtain the breed type (e.g, 1509, 1121)\n",
    "    X_test, npz_prefix = crop_rice_grains(sample_images, npz_prefix) # apply erosion and dilation, and normalization\n",
    "    npz_filename = npz.split(\"/\")[-1] # obtain original npz filename\n",
    "    evaluate(X_test, npz_prefix, breed_type, npz_filename)\n",
    "    \n",
    "del model\n",
    "gc.collect()"
   ]
  },
  {
   "cell_type": "code",
   "execution_count": 42,
   "metadata": {},
   "outputs": [],
   "source": [
    "test_file = \"npz_india/PUSA_PADDY 1509_HARYANA_ 03.07.2024_20240703_0022.npz\"\n",
    "test_npz = np.load(test_file)"
   ]
  },
  {
   "cell_type": "code",
   "execution_count": null,
   "metadata": {},
   "outputs": [
    {
     "data": {
      "text/plain": [
       "(333, 224, 224, 3)"
      ]
     },
     "execution_count": 43,
     "metadata": {},
     "output_type": "execute_result"
    },
    {
     "ename": "",
     "evalue": "",
     "output_type": "error",
     "traceback": [
      "\u001b[1;31mThe Kernel crashed while executing code in the current cell or a previous cell. \n",
      "\u001b[1;31mPlease review the code in the cell(s) to identify a possible cause of the failure. \n",
      "\u001b[1;31mClick <a href='https://aka.ms/vscodeJupyterKernelCrash'>here</a> for more info. \n",
      "\u001b[1;31mView Jupyter <a href='command:jupyter.viewOutput'>log</a> for further details."
     ]
    }
   ],
   "source": [
    "test_npz['kernel_pics'].shape"
   ]
  },
  {
   "cell_type": "markdown",
   "metadata": {},
   "source": [
    "# Statistics"
   ]
  },
  {
   "cell_type": "code",
   "execution_count": null,
   "metadata": {},
   "outputs": [
    {
     "name": "stderr",
     "output_type": "stream",
     "text": [
      "/tmp/ipykernel_419565/4163173266.py:33: FutureWarning: \n",
      "\n",
      "Passing `palette` without assigning `hue` is deprecated and will be removed in v0.14.0. Assign the `x` variable to `hue` and set `legend=False` for the same effect.\n",
      "\n",
      "  sns.barplot(\n",
      "/tmp/ipykernel_419565/4163173266.py:33: FutureWarning: \n",
      "\n",
      "Passing `palette` without assigning `hue` is deprecated and will be removed in v0.14.0. Assign the `x` variable to `hue` and set `legend=False` for the same effect.\n",
      "\n",
      "  sns.barplot(\n"
     ]
    },
    {
     "data": {
      "image/png": "[encoded data removed]",
      "text/plain": [
       "<Figure size 1400x600 with 2 Axes>"
      ]
     },
     "metadata": {},
     "output_type": "display_data"
    },
    {
     "ename": "",
     "evalue": "",
     "output_type": "error",
     "traceback": [
      "\u001b[1;31mThe Kernel crashed while executing code in the current cell or a previous cell. \n",
      "\u001b[1;31mPlease review the code in the cell(s) to identify a possible cause of the failure. \n",
      "\u001b[1;31mClick <a href='https://aka.ms/vscodeJupyterKernelCrash'>here</a> for more info. \n",
      "\u001b[1;31mView Jupyter <a href='command:jupyter.viewOutput'>log</a> for further details."
     ]
    }
   ],
   "source": [
    "import os\n",
    "import matplotlib.pyplot as plt\n",
    "import seaborn as sns\n",
    "\n",
    "# Define the dataset path\n",
    "dataset_path = \"IndianDefects/\"  # Change this if your path is different\n",
    "\n",
    "# Dictionary to store class counts separately for each variety\n",
    "class_counts = {\"1121\": {}, \"1509\": {}}\n",
    "\n",
    "# Loop through each variety (1121, 1509)\n",
    "for variety in os.listdir(dataset_path):  # e.g., 1121, 1509\n",
    "    variety_path = os.path.join(dataset_path, variety)\n",
    "\n",
    "    if os.path.isdir(variety_path) and variety in class_counts:\n",
    "        for defect_class in os.listdir(variety_path):  # e.g., broke, dual, half, etc.\n",
    "            class_path = os.path.join(variety_path, defect_class)\n",
    "\n",
    "            if os.path.isdir(class_path):  # Ensure it's a directory\n",
    "                num_images = len([f for f in os.listdir(class_path) if f.lower().endswith(('.jpg', '.png', '.jpeg'))])\n",
    "                \n",
    "                # Store the count in the correct variety category\n",
    "                class_counts[variety][defect_class] = num_images\n",
    "\n",
    "# Plotting\n",
    "fig, axes = plt.subplots(1, 2, figsize=(14, 6), sharey=True)  # Two subplots side by side\n",
    "\n",
    "for i, variety in enumerate([\"1121\", \"1509\"]):\n",
    "    if class_counts[variety]:  # Only plot if there are images\n",
    "        total_images = sum(class_counts[variety].values())  # Total images in the variety\n",
    "        \n",
    "        # Plot the barplot\n",
    "        sns.barplot(\n",
    "            x=list(class_counts[variety].keys()), \n",
    "            y=list(class_counts[variety].values()), \n",
    "            ax=axes[i], palette=\"viridis\"\n",
    "        )\n",
    "        \n",
    "        # Add percentage labels on top of each bar\n",
    "        for idx, count in enumerate(class_counts[variety].values()):\n",
    "            percentage = (count / total_images) * 100\n",
    "            axes[i].text(idx, count + 0.5, f\"{percentage:.2f}% ({count})\", ha='center', va='bottom', fontsize=10)\n",
    "\n",
    "        axes[i].set_title(f\"{variety}\")\n",
    "        axes[i].set_xlabel(\"Defect Class\")\n",
    "        axes[i].set_ylabel(\"Number of Images\")\n",
    "        axes[i].tick_params(axis='x', rotation=45)  # Rotate x-axis labels for readability\n",
    "\n",
    "plt.tight_layout()\n",
    "plt.show()\n"
   ]
  }
 ],
 "metadata": {
  "kernelspec": {
   "display_name": "tf2.18",
   "language": "python",
   "name": "python3"
  },
  "language_info": {
   "codemirror_mode": {
    "name": "ipython",
    "version": 3
   },
   "file_extension": ".py",
   "mimetype": "text/x-python",
   "name": "python",
   "nbconvert_exporter": "python",
   "pygments_lexer": "ipython3",
   "version": "3.10.0"
  }
 },
 "nbformat": 4,
 "nbformat_minor": 2
}
