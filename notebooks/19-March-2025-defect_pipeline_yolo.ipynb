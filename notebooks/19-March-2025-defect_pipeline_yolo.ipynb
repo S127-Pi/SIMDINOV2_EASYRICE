{
 "cells": [
  {
   "cell_type": "code",
   "execution_count": 1,
   "metadata": {},
   "outputs": [
    {
     "name": "stderr",
     "output_type": "stream",
     "text": [
      "2025-03-19 13:12:40.656525: E external/local_xla/xla/stream_executor/cuda/cuda_fft.cc:477] Unable to register cuFFT factory: Attempting to register factory for plugin cuFFT when one has already been registered\n",
      "WARNING: All log messages before absl::InitializeLog() is called are written to STDERR\n",
      "E0000 00:00:1742364760.673431  603705 cuda_dnn.cc:8310] Unable to register cuDNN factory: Attempting to register factory for plugin cuDNN when one has already been registered\n",
      "E0000 00:00:1742364760.678666  603705 cuda_blas.cc:1418] Unable to register cuBLAS factory: Attempting to register factory for plugin cuBLAS when one has already been registered\n",
      "2025-03-19 13:12:40.698395: I tensorflow/core/platform/cpu_feature_guard.cc:210] This TensorFlow binary is optimized to use available CPU instructions in performance-critical operations.\n",
      "To enable the following instructions: AVX2 FMA, in other operations, rebuild TensorFlow with the appropriate compiler flags.\n"
     ]
    }
   ],
   "source": [
    "import tensorflow as tf\n",
    "import math\n",
    "from tqdm import tqdm\n",
    "import numpy as np\n",
    "import os\n",
    "import time\n",
    "import cv2\n",
    "import pickle\n",
    "import matplotlib.pyplot as plt\n",
    "from PIL import Image\n",
    "import scipy as scipy\n",
    "from collections import Counter\n",
    "from Erosion import crop_rice_grains\n",
    "import uuid\n",
    "import gc\n",
    "\n",
    "\n",
    "from tensorflow.keras.models import Model,load_model\n",
    "from tensorflow.keras.applications import EfficientNetB0\n",
    "from tensorflow.keras.layers import Input,Dense, Conv2D,GlobalAveragePooling2D,Dropout,Flatten,BatchNormalization,Concatenate,InputLayer,AveragePooling2D\n",
    "from tensorflow.keras import backend as K\n",
    "from tensorflow.keras.optimizers import AdamW\n",
    "\n",
    "\n",
    "%matplotlib inline"
   ]
  },
  {
   "cell_type": "code",
   "execution_count": 2,
   "metadata": {},
   "outputs": [
    {
     "name": "stdout",
     "output_type": "stream",
     "text": [
      "1 Physical GPUs, 1 Logical GPU\n"
     ]
    },
    {
     "name": "stderr",
     "output_type": "stream",
     "text": [
      "I0000 00:00:1742364762.769547  603705 gpu_device.cc:2022] Created device /job:localhost/replica:0/task:0/device:GPU:0 with 15288 MB memory:  -> device: 0, name: NVIDIA GeForce RTX 4090, pci bus id: 0000:02:00.0, compute capability: 8.9\n"
     ]
    }
   ],
   "source": [
    "gpus = tf.config.experimental.list_physical_devices(\"GPU\")\n",
    "if gpus:\n",
    "    # Restrict TensorFlow to only use the first GPU\n",
    "    try:\n",
    "        for gpu in gpus:\n",
    "            tf.config.experimental.set_memory_growth(gpu, False)\n",
    "            tf.config.experimental.set_virtual_device_configuration(\n",
    "                gpu,\n",
    "                [\n",
    "                    tf.config.experimental.VirtualDeviceConfiguration(\n",
    "                        memory_limit=15288  # set your limit\n",
    "                    )\n",
    "                ],\n",
    "            )\n",
    "        tf.config.experimental.set_visible_devices(gpus[0], \"GPU\")\n",
    "        logical_gpus = tf.config.experimental.list_logical_devices(\"GPU\")\n",
    "        print(len(gpus), \"Physical GPUs,\", len(logical_gpus), \"Logical GPU\")\n",
    "    except RuntimeError as e:\n",
    "        # Visible devices must be set before GPUs have been initialized\n",
    "        print(e)"
   ]
  },
  {
   "cell_type": "markdown",
   "metadata": {},
   "source": [
    "# Initialize Defect Model"
   ]
  },
  {
   "cell_type": "code",
   "execution_count": 3,
   "metadata": {},
   "outputs": [],
   "source": [
    "base_model = EfficientNetB0(\n",
    "    include_top=False,\n",
    "    weights=\"imagenet\",\n",
    "    input_shape=(224,224,3)\n",
    ")\n",
    "\n",
    "config = base_model.get_config()\n",
    "new_model = tf.keras.models.Model.from_config(config) # <- new_model architecture\n",
    "\n",
    "x_model = new_model.output\n",
    "# x_model = data_augmentation(x_model)  \n",
    "x_model = GlobalAveragePooling2D()(x_model)\n",
    "x_model = BatchNormalization()(x_model)\n",
    "x_model = Dropout(0.3)(x_model)\n",
    "x_model = Dense(128,activation='relu')(x_model)\n",
    "x_model = BatchNormalization()(x_model)\n",
    "x_model = Dense(128,activation='relu')(x_model)\n",
    "x_model = Dropout(0.3)(x_model)\n",
    "x_model = Dense(64,activation='relu')(x_model)\n",
    "x_model = Dropout(0.3)(x_model)\n",
    "\n",
    "predictions = Dense(5, activation='softmax')(x_model)\n",
    "model = Model(inputs=new_model.input, outputs=predictions)\n",
    "\n",
    "model.load_weights('/media/new_volumn/MP_DEFECT/models/defect/modelsB0V4.keras')\n"
   ]
  },
  {
   "cell_type": "markdown",
   "metadata": {},
   "source": [
    "# Load dataset"
   ]
  },
  {
   "cell_type": "code",
   "execution_count": 4,
   "metadata": {},
   "outputs": [],
   "source": [
    "def find_npz_files(base_dirs):\n",
    "    npz_paths = []\n",
    "\n",
    "    for base_dir in base_dirs:\n",
    "        for root, dirs, files in os.walk(base_dir):  # Recursively walk through subdirectories\n",
    "            for file in files:\n",
    "                if file.endswith('.npz'):  # Check if the file ends with .npz\n",
    "                    npz_paths.append(os.path.join(root, file))  # Append the full path to the list\n",
    "\n",
    "    return npz_paths\n",
    "\n",
    "path_to_hovernet = \"/media/nas/MP/segmentation/yolo/\"\n",
    "# List of base folders you want to search through\n",
    "base_folders = [\n",
    "    \"Mandi_Wise_Scanned_Images/\",\n",
    "    \"New Season Paddy  Dec2024/\",\n",
    "    \"PNG_Paddy04-2024/\",\n",
    "    \"PNG_Paddy07-2024/\"\n",
    "]\n",
    "\n",
    "all_npz_files = find_npz_files([path_to_hovernet + base_folder for base_folder in base_folders])"
   ]
  },
  {
   "cell_type": "code",
   "execution_count": 5,
   "metadata": {},
   "outputs": [
    {
     "data": {
      "text/plain": [
       "578"
      ]
     },
     "execution_count": 5,
     "metadata": {},
     "output_type": "execute_result"
    }
   ],
   "source": [
    "len(all_npz_files)"
   ]
  },
  {
   "cell_type": "code",
   "execution_count": 6,
   "metadata": {},
   "outputs": [],
   "source": [
    "def transform(images):\n",
    "    X_test_resized = tf.image.resize(images['kernel_pics'], (224, 224))\n",
    "\n",
    "    # # Normalize images to the range [0, 1]\n",
    "    X_test_normalized = X_test_resized / 255.0\n",
    "\n",
    "    return np.array(X_test_normalized)"
   ]
  },
  {
   "cell_type": "code",
   "execution_count": 7,
   "metadata": {},
   "outputs": [],
   "source": [
    "# A set to keep track of generated UUIDs for uniqueness check\n",
    "generated_uuids = set()\n",
    "\n",
    "def evaluate(X_test, npz_prefix, npz_filename):\n",
    "\n",
    "    list_normal_rice = []\n",
    "\n",
    "    data_dict = [\n",
    "                    'broke',\n",
    "                    'dual',\n",
    "                    'half',\n",
    "                    'normal',\n",
    "                    'over'\n",
    "                ]\n",
    "    # Perform batch prediction\n",
    "    Y_pred = model.predict(X_test, verbose=0) \n",
    "    y_pred = np.argmax(Y_pred, axis=1)  # Get class indices for the whole batch\n",
    "\n",
    "    # Set base evaluation directory\n",
    "    base_dir = \"/media/new_volumn/SimDINO/AllIndianDefectsYolo\"\n",
    "    os.makedirs(base_dir, exist_ok=True)\n",
    "\n",
    "    # Training data directory for embeddings\n",
    "    training_dir = \"/media/new_volumn/SimDINO/images_india_cleaned_yolo/train/\"\n",
    "    os.makedirs(training_dir, exist_ok=True)\n",
    "\n",
    "    for i, (image, pred_class) in enumerate(zip(X_test, y_pred)):\n",
    "        class_label = data_dict[pred_class]  # Get class name from index\n",
    "\n",
    "        # Define directory for defect class\n",
    "        defect_class_dir = os.path.join(base_dir, class_label)\n",
    "        os.makedirs(defect_class_dir, exist_ok=True)\n",
    "\n",
    "        unique_id = uuid.uuid4().hex\n",
    "        while unique_id in generated_uuids:\n",
    "            unique_id = uuid.uuid4().hex\n",
    "        generated_uuids.add(unique_id)\n",
    "\n",
    "        save_path_defect = os.path.join(defect_class_dir, f\"{npz_prefix}_{unique_id}.png\")\n",
    "\n",
    "        # Convert image to NumPy and save\n",
    "        image_pil = Image.fromarray((image * 255).astype(np.uint8)) \n",
    "        image_pil.save(save_path_defect) # save to defect class directory\n",
    "\n",
    "\n",
    "        if class_label == \"normal\":\n",
    "            save_path_training = os.path.join(training_dir, f\"{npz_prefix}_{unique_id}.png\")\n",
    "            image_pil.save(save_path_training)\n",
    "            list_normal_rice.append(image_pil)\n",
    "\n",
    "    list_normal_rice = np.array(list_normal_rice)\n",
    "\n",
    "\n"
   ]
  },
  {
   "cell_type": "code",
   "execution_count": 8,
   "metadata": {},
   "outputs": [
    {
     "name": "stderr",
     "output_type": "stream",
     "text": [
      "WARNING: All log messages before absl::InitializeLog() is called are written to STDERR                                                                                                  | 0/578 [00:00<?, ?it/s]\n",
      "I0000 00:00:1742364776.162732  604000 service.cc:148] XLA service 0x7f12bc0034b0 initialized for platform CUDA (this does not guarantee that XLA will be used). Devices:\n",
      "I0000 00:00:1742364776.162774  604000 service.cc:156]   StreamExecutor device (0): NVIDIA GeForce RTX 4090, Compute Capability 8.9\n",
      "2025-03-19 13:12:56.242257: I tensorflow/compiler/mlir/tensorflow/utils/dump_mlir_util.cc:268] disabling MLIR crash reproducer, set env var `MLIR_CRASH_REPRODUCER_DIRECTORY` to enable.\n",
      "I0000 00:00:1742364776.583946  604000 cuda_dnn.cc:529] Loaded cuDNN version 90300\n",
      "2025-03-19 13:12:56.698860: W external/local_xla/xla/service/gpu/nvptx_compiler.cc:930] The NVIDIA driver's CUDA version is 12.2 which is older than the PTX compiler version 12.5.82. Because the driver is older than the PTX compiler version, XLA is disabling parallel compilation, which may slow down compilation. You should update your NVIDIA driver or use the NVIDIA-provided CUDA forward compatibility packages.\n",
      "I0000 00:00:1742364780.316856  604000 device_compiler.h:188] Compiled cluster using XLA!  This line is logged at most once for the lifetime of the process.\n",
      "looping through npz:   5%|███████▏                                                                                                                                             | 28/578 [02:46<40:45,  4.45s/it]"
     ]
    },
    {
     "name": "stdout",
     "output_type": "stream",
     "text": [
      "Unexpected image shape: (0,), the source npz file is IMG_20240223_0001\n",
      "Error in /media/nas/MP/segmentation/yolo/Mandi_Wise_Scanned_Images/PADDY MANDI 06-10-24/IMG_20240223_0001.npz, Skipping...\n"
     ]
    },
    {
     "name": "stderr",
     "output_type": "stream",
     "text": [
      "looping through npz: 100%|████████████████████████████████████████████████████████████████████████████████████████████████████████████████████████████████████████████████████| 578/578 [43:54<00:00,  4.56s/it]"
     ]
    },
    {
     "name": "stdout",
     "output_type": "stream",
     "text": [
      "Number of uncompatible images: 1\n"
     ]
    },
    {
     "name": "stderr",
     "output_type": "stream",
     "text": [
      "\n"
     ]
    },
    {
     "data": {
      "text/plain": [
       "22438"
      ]
     },
     "execution_count": 8,
     "metadata": {},
     "output_type": "execute_result"
    }
   ],
   "source": [
    "err_count = 0\n",
    "for count, npz in enumerate(tqdm(all_npz_files, desc=\"looping through npz\")):\n",
    "    sample_images = np.load(npz)['kernel_pics'].astype('uint8')\n",
    "    npz_prefix = npz.split(\"/\")[-1][:-4] # obtain the prefix before .npz\n",
    "    X_test, npz_prefix, err = crop_rice_grains(sample_images, npz_prefix) # apply erosion and dilation, and normalization\n",
    "    if err: # if error occurs, skip the current npz file\n",
    "        err_count += 1\n",
    "        print(f\"Error in {npz}, Skipping...\")\n",
    "        continue\n",
    "    npz_filename = npz.split(\"/\")[-1] # obtain original npz filename\n",
    "    evaluate(X_test, npz_prefix, npz_filename)\n",
    "\n",
    "print(f\"Number of uncompatible images: {err_count}\")\n",
    "del model\n",
    "gc.collect()"
   ]
  },
  {
   "cell_type": "code",
   "execution_count": 42,
   "metadata": {},
   "outputs": [],
   "source": [
    "test_file = \"npz_india/PUSA_PADDY 1509_HARYANA_ 03.07.2024_20240703_0022.npz\"\n",
    "test_npz = np.load(test_file)"
   ]
  },
  {
   "cell_type": "code",
   "execution_count": null,
   "metadata": {},
   "outputs": [
    {
     "data": {
      "text/plain": [
       "(333, 224, 224, 3)"
      ]
     },
     "execution_count": 43,
     "metadata": {},
     "output_type": "execute_result"
    },
    {
     "ename": "",
     "evalue": "",
     "output_type": "error",
     "traceback": [
      "\u001b[1;31mThe Kernel crashed while executing code in the current cell or a previous cell. \n",
      "\u001b[1;31mPlease review the code in the cell(s) to identify a possible cause of the failure. \n",
      "\u001b[1;31mClick <a href='https://aka.ms/vscodeJupyterKernelCrash'>here</a> for more info. \n",
      "\u001b[1;31mView Jupyter <a href='command:jupyter.viewOutput'>log</a> for further details."
     ]
    }
   ],
   "source": [
    "test_npz['kernel_pics'].shape"
   ]
  },
  {
   "cell_type": "markdown",
   "metadata": {},
   "source": [
    "# Statistics"
   ]
  },
  {
   "cell_type": "code",
   "execution_count": 10,
   "metadata": {},
   "outputs": [
    {
     "name": "stderr",
     "output_type": "stream",
     "text": [
      "/tmp/ipykernel_603705/803208508.py:32: FutureWarning: \n",
      "\n",
      "Passing `palette` without assigning `hue` is deprecated and will be removed in v0.14.0. Assign the `x` variable to `hue` and set `legend=False` for the same effect.\n",
      "\n",
      "  ax = sns.barplot(x=classes, y=counts, palette=\"viridis\")\n"
     ]
    },
    {
     "data": {
      "image/png": "[encoded data removed]",
      "text/plain": [
       "<Figure size 1000x600 with 1 Axes>"
      ]
     },
     "metadata": {},
     "output_type": "display_data"
    }
   ],
   "source": [
    "import os\n",
    "import matplotlib.pyplot as plt\n",
    "import seaborn as sns\n",
    "\n",
    "# Define the dataset path\n",
    "dataset_path = \"AllIndianDefectsYolo/\"  # Update this if needed\n",
    "\n",
    "# Dictionary to store image counts per defect class\n",
    "class_counts = {}\n",
    "\n",
    "# Loop through each defect class folder\n",
    "for defect_class in os.listdir(dataset_path):\n",
    "    class_path = os.path.join(dataset_path, defect_class)\n",
    "\n",
    "    if os.path.isdir(class_path):  # Check if it's a folder\n",
    "        # Count number of image files inside each defect class folder\n",
    "        num_images = len([f for f in os.listdir(class_path) if f.lower().endswith(('.jpg', '.png', '.jpeg'))])\n",
    "        \n",
    "        # Store the count\n",
    "        class_counts[defect_class] = num_images\n",
    "\n",
    "# Convert dictionary to lists for plotting\n",
    "classes = list(class_counts.keys())\n",
    "counts = list(class_counts.values())\n",
    "\n",
    "# Calculate total images and percentage for each class\n",
    "total_images = sum(counts)\n",
    "percentages = [(count / total_images) * 100 for count in counts]\n",
    "\n",
    "# Plot the bar chart\n",
    "plt.figure(figsize=(10, 6))\n",
    "ax = sns.barplot(x=classes, y=counts, palette=\"viridis\")\n",
    "\n",
    "# Add percentage labels on top of each bar\n",
    "for i, (count, percent) in enumerate(zip(counts, percentages)):\n",
    "    ax.text(i, count + 1, f\"{percent:.1f}% ({count})\", ha='center', fontsize=12, fontweight='bold')\n",
    "\n",
    "# Rotate x-axis labels for better readability\n",
    "plt.xticks(rotation=45, ha=\"right\")\n",
    "plt.xlabel(\"Defect Class\")\n",
    "plt.ylabel(\"Number of Images\")\n",
    "plt.title(\"Image Count & Percentage per Defect Class in AllIndianDefects Dataset\")\n",
    "plt.grid(axis=\"y\", linestyle=\"--\", alpha=0.7)\n",
    "\n",
    "# Show the plot\n",
    "plt.show()\n",
    "\n",
    "\n"
   ]
  },
  {
   "cell_type": "code",
   "execution_count": null,
   "metadata": {},
   "outputs": [],
   "source": []
  }
 ],
 "metadata": {
  "kernelspec": {
   "display_name": "tf2.18",
   "language": "python",
   "name": "tf2.18"
  },
  "language_info": {
   "codemirror_mode": {
    "name": "ipython",
    "version": 3
   },
   "file_extension": ".py",
   "mimetype": "text/x-python",
   "name": "python",
   "nbconvert_exporter": "python",
   "pygments_lexer": "ipython3",
   "version": "3.10.0"
  }
 },
 "nbformat": 4,
 "nbformat_minor": 4
}
